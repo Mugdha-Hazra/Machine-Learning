{
 "cells": [
  {
   "cell_type": "markdown",
   "id": "af63d9c7",
   "metadata": {},
   "source": [
    "## NUMPY"
   ]
  },
  {
   "cell_type": "code",
   "execution_count": 2,
   "id": "c69c84b6",
   "metadata": {},
   "outputs": [],
   "source": [
    "'''important library in python\n",
    "1.numpy\n",
    "2.pandas\n",
    "3.seaborn\n",
    "\n",
    "Numpy : It is a core numerical computing package in python.\n",
    "        its core type is np array also known as numpy array.\n",
    "        \n",
    "1. it is used in all numerical computation in python.\n",
    "2. it provides high dimenson datastructures like array,vectors,matrix etc.\n",
    "3. it is implemented in c and fortan thus it is much faster.\n",
    "4. to use numpy we have to import the module\n",
    "'''\n",
    "import numpy as np"
   ]
  },
  {
   "cell_type": "code",
   "execution_count": 4,
   "id": "e4b43dcc",
   "metadata": {},
   "outputs": [
    {
     "name": "stdout",
     "output_type": "stream",
     "text": [
      "<class 'numpy.ndarray'>\n"
     ]
    }
   ],
   "source": [
    "# initialising the numpy array \n",
    "# array is a function of numpy array.\n",
    "# it the bracket we'll input a list\n",
    "np1= np.array([1,2,3,4])\n",
    "print(type(np1))"
   ]
  },
  {
   "cell_type": "code",
   "execution_count": 6,
   "id": "7ad10873",
   "metadata": {},
   "outputs": [
    {
     "name": "stdout",
     "output_type": "stream",
     "text": [
      "[1 2 3 4]\n"
     ]
    }
   ],
   "source": [
    "print(np1)"
   ]
  },
  {
   "cell_type": "code",
   "execution_count": 10,
   "id": "6b928a1a",
   "metadata": {},
   "outputs": [
    {
     "name": "stdout",
     "output_type": "stream",
     "text": [
      "<class 'numpy.ndarray'>\n",
      "[[1 2]\n",
      " [3 4]]\n"
     ]
    }
   ],
   "source": [
    "# to create a matrix we'll pass 2 list (nested list)\n",
    "mat1=np.array([[1,2],[3,4]])\n",
    "print(type(mat1))\n",
    "print(mat1)"
   ]
  },
  {
   "cell_type": "code",
   "execution_count": 12,
   "id": "da821d05",
   "metadata": {},
   "outputs": [
    {
     "name": "stdout",
     "output_type": "stream",
     "text": [
      "(4,)\n",
      "(2, 2)\n"
     ]
    }
   ],
   "source": [
    "## np1 -> 1D array  mat1 -> 2D array\n",
    "## to know the shape of the array \n",
    "\n",
    "print(np1.shape)\n",
    "print(mat1.shape)"
   ]
  },
  {
   "cell_type": "code",
   "execution_count": 14,
   "id": "a1eb92f7",
   "metadata": {},
   "outputs": [
    {
     "name": "stdout",
     "output_type": "stream",
     "text": [
      "int32\n"
     ]
    }
   ],
   "source": [
    "# unlike python list where you have many different types of elemet \n",
    "# here we can use only one type of element.\n",
    "\n",
    "# to get the type of element of array\n",
    "print(mat1.dtype)"
   ]
  },
  {
   "cell_type": "code",
   "execution_count": 16,
   "id": "5eb140f6",
   "metadata": {},
   "outputs": [
    {
     "name": "stdout",
     "output_type": "stream",
     "text": [
      "[[5 2]\n",
      " [3 4]]\n"
     ]
    }
   ],
   "source": [
    "#changing an element of the matrix\n",
    "mat1[0,0]=5\n",
    "print(mat1)"
   ]
  },
  {
   "cell_type": "code",
   "execution_count": 18,
   "id": "7247f179",
   "metadata": {},
   "outputs": [
    {
     "name": "stdout",
     "output_type": "stream",
     "text": [
      "[0 1 2 3 4 5 6 7 8 9]\n"
     ]
    }
   ],
   "source": [
    "#In list we use the functn range to generate element in the sequence\n",
    "# here we use the functon arange to generate the element.\n",
    "\n",
    "mat2=np.arange(0,10,1) #prints the element from start till n-1.\n",
    "print(mat2)"
   ]
  },
  {
   "cell_type": "code",
   "execution_count": 20,
   "id": "fb6415cc",
   "metadata": {},
   "outputs": [
    {
     "name": "stdout",
     "output_type": "stream",
     "text": [
      "[ 0.          0.52631579  1.05263158  1.57894737  2.10526316  2.63157895\n",
      "  3.15789474  3.68421053  4.21052632  4.73684211  5.26315789  5.78947368\n",
      "  6.31578947  6.84210526  7.36842105  7.89473684  8.42105263  8.94736842\n",
      "  9.47368421 10.        ]\n"
     ]
    }
   ],
   "source": [
    "# if we want to include both i.e starting point and ending point \n",
    "# use linspace function.\n",
    "# here np.linspace(starting,ending,no of elements)\n",
    "mat3=np.linspace(0,10,20)\n",
    "print(mat3)"
   ]
  },
  {
   "cell_type": "code",
   "execution_count": 21,
   "id": "66dd3805",
   "metadata": {},
   "outputs": [
    {
     "data": {
      "text/plain": [
       "(20,)"
      ]
     },
     "execution_count": 21,
     "metadata": {},
     "output_type": "execute_result"
    }
   ],
   "source": [
    "mat3.shape # it is a 1d array"
   ]
  },
  {
   "cell_type": "code",
   "execution_count": 22,
   "id": "7488c4ec",
   "metadata": {},
   "outputs": [
    {
     "name": "stdout",
     "output_type": "stream",
     "text": [
      "[[0.0689612  0.93740319 0.72201897 0.25944037 0.01350632]\n",
      " [0.50680016 0.58388673 0.86381623 0.64557562 0.86153047]\n",
      " [0.15022584 0.02327307 0.41858944 0.96854177 0.10554736]\n",
      " [0.19588422 0.14429082 0.38079981 0.81149554 0.46611231]\n",
      " [0.98509123 0.4505051  0.97190859 0.87933336 0.48976259]]\n"
     ]
    }
   ],
   "source": [
    "# to generate a random matrix\n",
    "# use np.random.rand(no of rows,no of col)\n",
    "mat4=np.random.rand(5,5)\n",
    "print(mat4)#it contains random numbers between 0 and 1."
   ]
  },
  {
   "cell_type": "code",
   "execution_count": 23,
   "id": "c67aa183",
   "metadata": {},
   "outputs": [
    {
     "name": "stdout",
     "output_type": "stream",
     "text": [
      "[[ 1.38501245 -1.44209689  1.50602978  1.2405887  -0.87628308]\n",
      " [-0.54706268  0.94579963 -0.32935598  0.5070602   0.52729512]\n",
      " [-0.64873868 -1.66313227 -0.15885447  1.33055785 -1.37062528]\n",
      " [ 0.52418862 -0.04730556  1.02979281 -0.12114247  0.00787871]\n",
      " [ 2.05898554 -0.82537637  0.1305701  -1.73009921 -0.26503885]]\n"
     ]
    }
   ],
   "source": [
    "# for getting a normally distributed random numbers\n",
    "mat5=np.random.randn(5,5)\n",
    "print(mat5)"
   ]
  },
  {
   "cell_type": "code",
   "execution_count": 28,
   "id": "60b677c9",
   "metadata": {},
   "outputs": [
    {
     "name": "stdout",
     "output_type": "stream",
     "text": [
      "[[18  0  0]\n",
      " [ 0  4  0]\n",
      " [ 0  0  8]]\n"
     ]
    }
   ],
   "source": [
    "# to create a diagonal matrix\n",
    "mat6=np.diag([18,4,8]) #given the diagonal elements\n",
    "print(mat6)"
   ]
  },
  {
   "cell_type": "code",
   "execution_count": 37,
   "id": "5e3ceb7e",
   "metadata": {},
   "outputs": [
    {
     "name": "stdout",
     "output_type": "stream",
     "text": [
      "[[0. 0.]\n",
      " [0. 0.]\n",
      " [0. 0.]\n",
      " [0. 0.]\n",
      " [0. 0.]\n",
      " [0. 0.]\n",
      " [0. 0.]\n",
      " [0. 0.]\n",
      " [0. 0.]\n",
      " [0. 0.]]\n"
     ]
    }
   ],
   "source": [
    "# zero matrix in which all the elements are zeros\n",
    "mat7=np.zeros((10,2)) #creates a zero matrix of 10 rows and 2 columns\n",
    "print(mat7)"
   ]
  },
  {
   "cell_type": "code",
   "execution_count": 39,
   "id": "ccc5ca16",
   "metadata": {},
   "outputs": [
    {
     "name": "stdout",
     "output_type": "stream",
     "text": [
      "[[1. 1.]\n",
      " [1. 1.]\n",
      " [1. 1.]\n",
      " [1. 1.]\n",
      " [1. 1.]\n",
      " [1. 1.]\n",
      " [1. 1.]\n",
      " [1. 1.]\n",
      " [1. 1.]\n",
      " [1. 1.]]\n"
     ]
    }
   ],
   "source": [
    "# one matrix in which all the elements are ones\n",
    "mat7=np.ones((10,2)) #creates a ones matrix of 10 rows and 2 columns\n",
    "print(mat7)"
   ]
  },
  {
   "cell_type": "code",
   "execution_count": 42,
   "id": "1bc2a92d",
   "metadata": {},
   "outputs": [
    {
     "name": "stdout",
     "output_type": "stream",
     "text": [
      "1.3850124457770283\n",
      "0.007878705428946019\n"
     ]
    }
   ],
   "source": [
    "# here we can also use slicising.\n",
    "print(mat5[0,0])#gives the zeroth element\n",
    "print(mat5[3,4])# gives the element of 3rd row 4th column"
   ]
  },
  {
   "cell_type": "code",
   "execution_count": 43,
   "id": "627a8e1c",
   "metadata": {},
   "outputs": [
    {
     "name": "stdout",
     "output_type": "stream",
     "text": [
      "[[ 1.38501245 -1.44209689  1.50602978  1.2405887  -0.87628308]\n",
      " [-0.54706268  0.94579963 -0.32935598  0.5070602   0.52729512]\n",
      " [-0.64873868 -1.66313227 -0.15885447  1.33055785 -1.37062528]]\n"
     ]
    }
   ],
   "source": [
    "print(mat5[0:3:])# we'll get all the values till 2nd row"
   ]
  }
 ],
 "metadata": {
  "kernelspec": {
   "display_name": "Python 3",
   "language": "python",
   "name": "python3"
  },
  "language_info": {
   "codemirror_mode": {
    "name": "ipython",
    "version": 3
   },
   "file_extension": ".py",
   "mimetype": "text/x-python",
   "name": "python",
   "nbconvert_exporter": "python",
   "pygments_lexer": "ipython3",
   "version": "3.8.5"
  }
 },
 "nbformat": 4,
 "nbformat_minor": 5
}
