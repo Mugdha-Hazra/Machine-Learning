{
 "cells": [
  {
   "cell_type": "markdown",
   "id": "2fc01bde",
   "metadata": {},
   "source": [
    "# TUPLES"
   ]
  },
  {
   "cell_type": "code",
   "execution_count": 4,
   "id": "a226a782",
   "metadata": {},
   "outputs": [
    {
     "name": "stdout",
     "output_type": "stream",
     "text": [
      "<class 'tuple'>\n"
     ]
    }
   ],
   "source": [
    "#Tupples are like list except that they cannot be modified once created.\n",
    "# they are immutable\n",
    "# we use () for tuples\n",
    "t1=(1,2)\n",
    "print(type(t1))"
   ]
  },
  {
   "cell_type": "code",
   "execution_count": 6,
   "id": "ce5167fd",
   "metadata": {},
   "outputs": [
    {
     "name": "stdout",
     "output_type": "stream",
     "text": [
      "(1, 2)\n"
     ]
    }
   ],
   "source": [
    "print(t1)"
   ]
  },
  {
   "cell_type": "code",
   "execution_count": 9,
   "id": "a8bf1f08",
   "metadata": {},
   "outputs": [],
   "source": [
    "#t1[0]=5\n",
    "#it will give error since its immutable."
   ]
  },
  {
   "cell_type": "markdown",
   "id": "9d401c81",
   "metadata": {},
   "source": [
    "# Dictionary"
   ]
  },
  {
   "cell_type": "code",
   "execution_count": 11,
   "id": "aef1b76a",
   "metadata": {},
   "outputs": [
    {
     "name": "stdout",
     "output_type": "stream",
     "text": [
      "<class 'dict'>\n",
      "{'key1': 1, 'key2': 2, 'key3': 3}\n"
     ]
    }
   ],
   "source": [
    "# Dictionary are also like list except that each element is a key-value pair.\n",
    "# we use {} for dictionary.\n",
    "# here we have to assign index (KEY) of our own to the element (VALUE).\n",
    "# it is a collection of key value pair.\n",
    "\n",
    "d1={\"key1\":1,\"key2\":2,\"key3\":3}\n",
    "#here key1,key2,key3 are the index of 1,2,3.\n",
    "print(type(d1))\n",
    "print(d1)"
   ]
  },
  {
   "cell_type": "code",
   "execution_count": 13,
   "id": "099dcc87",
   "metadata": {},
   "outputs": [
    {
     "name": "stdout",
     "output_type": "stream",
     "text": [
      "1\n"
     ]
    }
   ],
   "source": [
    "#for accessing any values\n",
    "print(d1[\"key1\"])"
   ]
  },
  {
   "cell_type": "code",
   "execution_count": null,
   "id": "f5976299",
   "metadata": {},
   "outputs": [],
   "source": []
  }
 ],
 "metadata": {
  "kernelspec": {
   "display_name": "Python 3",
   "language": "python",
   "name": "python3"
  },
  "language_info": {
   "codemirror_mode": {
    "name": "ipython",
    "version": 3
   },
   "file_extension": ".py",
   "mimetype": "text/x-python",
   "name": "python",
   "nbconvert_exporter": "python",
   "pygments_lexer": "ipython3",
   "version": "3.8.5"
  }
 },
 "nbformat": 4,
 "nbformat_minor": 5
}
