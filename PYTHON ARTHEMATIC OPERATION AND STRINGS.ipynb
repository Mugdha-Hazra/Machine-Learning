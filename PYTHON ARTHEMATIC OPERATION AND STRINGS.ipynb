{
 "cells": [
  {
   "cell_type": "markdown",
   "id": "0fbeaa21",
   "metadata": {},
   "source": [
    "## Arthematic operators:"
   ]
  },
  {
   "cell_type": "code",
   "execution_count": 137,
   "id": "1b81b65c",
   "metadata": {},
   "outputs": [
    {
     "name": "stdout",
     "output_type": "stream",
     "text": [
      "4\n"
     ]
    }
   ],
   "source": [
    "#arthematic operations\n",
    "x=2+2#addition\n",
    "print(x)"
   ]
  },
  {
   "cell_type": "code",
   "execution_count": 138,
   "id": "3d943508",
   "metadata": {},
   "outputs": [
    {
     "name": "stdout",
     "output_type": "stream",
     "text": [
      "3\n",
      "12\n",
      "25\n",
      "1\n"
     ]
    }
   ],
   "source": [
    "x=5-2#substraction\n",
    "print(x)\n",
    "y=3*4#Multiplication\n",
    "print(y)\n",
    "z=5**2#Power\n",
    "print(z)\n",
    "m=5%2#remainder\n",
    "print(m)\n",
    "x=5/3#float division\n",
    "print(x)\n",
    "x=5//2#interger division\n",
    "print(x)"
   ]
  },
  {
   "cell_type": "code",
   "execution_count": 139,
   "id": "0c5b26b3",
   "metadata": {},
   "outputs": [
    {
     "data": {
      "text/plain": [
       "14"
      ]
     },
     "execution_count": 139,
     "metadata": {},
     "output_type": "execute_result"
    }
   ],
   "source": [
    "5*2+4"
   ]
  },
  {
   "cell_type": "code",
   "execution_count": 140,
   "id": "971d8e6b",
   "metadata": {},
   "outputs": [
    {
     "data": {
      "text/plain": [
       "True"
      ]
     },
     "execution_count": 140,
     "metadata": {},
     "output_type": "execute_result"
    }
   ],
   "source": [
    "5>2\n"
   ]
  },
  {
   "cell_type": "code",
   "execution_count": 141,
   "id": "dc8cc0bf",
   "metadata": {},
   "outputs": [
    {
     "data": {
      "text/plain": [
       "False"
      ]
     },
     "execution_count": 141,
     "metadata": {},
     "output_type": "execute_result"
    }
   ],
   "source": [
    "6<=5"
   ]
  },
  {
   "cell_type": "markdown",
   "id": "dcfd9532",
   "metadata": {},
   "source": [
    "## Strings"
   ]
  },
  {
   "cell_type": "code",
   "execution_count": 142,
   "id": "0b39f750",
   "metadata": {},
   "outputs": [
    {
     "data": {
      "text/plain": [
       "'hii'"
      ]
     },
     "execution_count": 142,
     "metadata": {},
     "output_type": "execute_result"
    }
   ],
   "source": [
    "\"hii\""
   ]
  },
  {
   "cell_type": "code",
   "execution_count": 143,
   "id": "0e3e23fd",
   "metadata": {},
   "outputs": [
    {
     "name": "stdout",
     "output_type": "stream",
     "text": [
      "dhedges\n"
     ]
    },
    {
     "data": {
      "text/plain": [
       "'dhedges'"
      ]
     },
     "execution_count": 143,
     "metadata": {},
     "output_type": "execute_result"
    }
   ],
   "source": [
    "s=\"dhedges\"\n",
    "print(s)#result\n",
    "s#output"
   ]
  },
  {
   "cell_type": "code",
   "execution_count": 144,
   "id": "b1f29e2b",
   "metadata": {},
   "outputs": [
    {
     "name": "stdout",
     "output_type": "stream",
     "text": [
      "st R tutorial\n"
     ]
    }
   ],
   "source": [
    "#string formatting\n",
    "x=\"R\"\n",
    "print(\"st {} tutorial\".format(x))"
   ]
  },
  {
   "cell_type": "code",
   "execution_count": 145,
   "id": "67d23525",
   "metadata": {},
   "outputs": [
    {
     "name": "stdout",
     "output_type": "stream",
     "text": [
      "st SQL tutorial\n"
     ]
    }
   ],
   "source": [
    "x=\"SQL\"\n",
    "print(\"st {} tutorial\".format(x))"
   ]
  },
  {
   "cell_type": "code",
   "execution_count": 146,
   "id": "2fbcfbbf",
   "metadata": {},
   "outputs": [
    {
     "name": "stdout",
     "output_type": "stream",
     "text": [
      "st SQL tutorial dhedges.\n"
     ]
    }
   ],
   "source": [
    "#for adding multiple variables.\n",
    "print(\"st {} tutorial {}.\".format(x,s))"
   ]
  },
  {
   "cell_type": "code",
   "execution_count": 147,
   "id": "4a87d979",
   "metadata": {},
   "outputs": [
    {
     "name": "stdout",
     "output_type": "stream",
     "text": [
      "7\n"
     ]
    }
   ],
   "source": [
    "#(len) length function for fingding the length of our string.\n",
    "#counts the space also.\n",
    "x=len(s)\n",
    "print(x)"
   ]
  },
  {
   "cell_type": "code",
   "execution_count": 148,
   "id": "5e8432d3",
   "metadata": {},
   "outputs": [
    {
     "data": {
      "text/plain": [
       "'dheMugdha@s'"
      ]
     },
     "execution_count": 148,
     "metadata": {},
     "output_type": "execute_result"
    }
   ],
   "source": [
    "#replace function\n",
    "#syntax: string_name(\"original word\",\"new word\")\n",
    "#it will not change the original string\n",
    "#but if you want u can store the new value to another string variable.\n",
    "s.replace(\"dge\",\"Mugdha@\")\n"
   ]
  },
  {
   "cell_type": "code",
   "execution_count": 149,
   "id": "3d86609a",
   "metadata": {},
   "outputs": [
    {
     "name": "stdout",
     "output_type": "stream",
     "text": [
      "m : dheMugdha@s\n",
      "s : dhedges\n"
     ]
    }
   ],
   "source": [
    "m=s.replace(\"dge\",\"Mugdha@\")\n",
    "print(\"m :\",m)#copy string\n",
    "print(\"s :\",s)#old string"
   ]
  },
  {
   "cell_type": "code",
   "execution_count": 150,
   "id": "f0c2cac1",
   "metadata": {},
   "outputs": [
    {
     "data": {
      "text/plain": [
       "'h'"
      ]
     },
     "execution_count": 150,
     "metadata": {},
     "output_type": "execute_result"
    }
   ],
   "source": [
    "##string index and string slicising\n",
    "#extractng any string character from an particular position\n",
    "#it is known as string indexing or string slicing.\n",
    "#python indexing starts with 0\n",
    "s[1]"
   ]
  },
  {
   "cell_type": "code",
   "execution_count": 151,
   "id": "7b9f618c",
   "metadata": {},
   "outputs": [
    {
     "data": {
      "text/plain": [
       "'edg'"
      ]
     },
     "execution_count": 151,
     "metadata": {},
     "output_type": "execute_result"
    }
   ],
   "source": [
    "#for getting a range of elements\n",
    "s[2:5] # lower bound included and upper bound excluded.\n",
    "# it will print the element present in 2,3,4 and not 5."
   ]
  },
  {
   "cell_type": "code",
   "execution_count": 152,
   "id": "12306317",
   "metadata": {},
   "outputs": [
    {
     "data": {
      "text/plain": [
       "'ge'"
      ]
     },
     "execution_count": 152,
     "metadata": {},
     "output_type": "execute_result"
    }
   ],
   "source": [
    "s[4:6]"
   ]
  },
  {
   "cell_type": "code",
   "execution_count": 153,
   "id": "53fc28e2",
   "metadata": {
    "scrolled": true
   },
   "outputs": [
    {
     "data": {
      "text/plain": [
       "'s'"
      ]
     },
     "execution_count": 153,
     "metadata": {},
     "output_type": "execute_result"
    }
   ],
   "source": [
    "#it also supports -ve indexing\n",
    "#-1 means last character -2 secondlast and so on\n",
    "s[-1]"
   ]
  },
  {
   "cell_type": "code",
   "execution_count": 154,
   "id": "584fb5dc",
   "metadata": {
    "scrolled": true
   },
   "outputs": [
    {
     "data": {
      "text/plain": [
       "'dhedg'"
      ]
     },
     "execution_count": 154,
     "metadata": {},
     "output_type": "execute_result"
    }
   ],
   "source": [
    "#while slicing we can also skip the elements\n",
    "s[:5] #it will print all the elemet from start till 4"
   ]
  },
  {
   "cell_type": "code",
   "execution_count": 155,
   "id": "d1dcda2c",
   "metadata": {},
   "outputs": [
    {
     "data": {
      "text/plain": [
       "'es'"
      ]
     },
     "execution_count": 155,
     "metadata": {},
     "output_type": "execute_result"
    }
   ],
   "source": [
    "s[5:]#print all character from 5 till end"
   ]
  },
  {
   "cell_type": "code",
   "execution_count": 156,
   "id": "c54317f8",
   "metadata": {},
   "outputs": [
    {
     "data": {
      "text/plain": [
       "'degs'"
      ]
     },
     "execution_count": 156,
     "metadata": {},
     "output_type": "execute_result"
    }
   ],
   "source": [
    "#alternate counting\n",
    "#step arguments\n",
    "s[::2]#from starting till end skipping alternating character."
   ]
  },
  {
   "cell_type": "code",
   "execution_count": 157,
   "id": "e2e2ca20",
   "metadata": {},
   "outputs": [
    {
     "name": "stdout",
     "output_type": "stream",
     "text": [
      "<class 'str'>\n",
      "<class 'int'>\n"
     ]
    }
   ],
   "source": [
    "#to know the type of variable\n",
    "print(type(s))\n",
    "print(type(x))"
   ]
  },
  {
   "cell_type": "code",
   "execution_count": null,
   "id": "f5490cb4",
   "metadata": {},
   "outputs": [],
   "source": []
  }
 ],
 "metadata": {
  "kernelspec": {
   "display_name": "Python 3",
   "language": "python",
   "name": "python3"
  },
  "language_info": {
   "codemirror_mode": {
    "name": "ipython",
    "version": 3
   },
   "file_extension": ".py",
   "mimetype": "text/x-python",
   "name": "python",
   "nbconvert_exporter": "python",
   "pygments_lexer": "ipython3",
   "version": "3.8.5"
  }
 },
 "nbformat": 4,
 "nbformat_minor": 5
}
