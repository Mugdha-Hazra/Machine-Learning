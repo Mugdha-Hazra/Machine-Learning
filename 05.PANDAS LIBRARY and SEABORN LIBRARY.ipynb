{
 "cells": [
  {
   "cell_type": "markdown",
   "id": "a4410164",
   "metadata": {},
   "source": [
    "## PANDAS"
   ]
  },
  {
   "cell_type": "markdown",
   "id": "7a702504",
   "metadata": {},
   "source": [
    "### importing pandas"
   ]
  },
  {
   "cell_type": "code",
   "execution_count": 82,
   "id": "7b7206dc",
   "metadata": {},
   "outputs": [],
   "source": [
    "#pandas is a softscript library written in python\n",
    "# it's specifically for data manupulation and analysis.\n",
    "# first we have to import pandas\n",
    "import pandas as pd"
   ]
  },
  {
   "cell_type": "markdown",
   "id": "2bdadc21",
   "metadata": {},
   "source": [
    "### accessing a csv file"
   ]
  },
  {
   "cell_type": "code",
   "execution_count": 83,
   "id": "b84ab797",
   "metadata": {},
   "outputs": [
    {
     "data": {
      "text/html": [
       "<div>\n",
       "<style scoped>\n",
       "    .dataframe tbody tr th:only-of-type {\n",
       "        vertical-align: middle;\n",
       "    }\n",
       "\n",
       "    .dataframe tbody tr th {\n",
       "        vertical-align: top;\n",
       "    }\n",
       "\n",
       "    .dataframe thead th {\n",
       "        text-align: right;\n",
       "    }\n",
       "</style>\n",
       "<table border=\"1\" class=\"dataframe\">\n",
       "  <thead>\n",
       "    <tr style=\"text-align: right;\">\n",
       "      <th></th>\n",
       "      <th>Customer ID</th>\n",
       "      <th>Customer Name</th>\n",
       "      <th>Segment</th>\n",
       "      <th>Age</th>\n",
       "      <th>Country</th>\n",
       "      <th>City</th>\n",
       "      <th>State</th>\n",
       "      <th>Postal Code</th>\n",
       "      <th>Region</th>\n",
       "    </tr>\n",
       "  </thead>\n",
       "  <tbody>\n",
       "    <tr>\n",
       "      <th>0</th>\n",
       "      <td>CG-12520</td>\n",
       "      <td>Claire Gute</td>\n",
       "      <td>Consumer</td>\n",
       "      <td>67</td>\n",
       "      <td>United States</td>\n",
       "      <td>Henderson</td>\n",
       "      <td>Kentucky</td>\n",
       "      <td>42420</td>\n",
       "      <td>South</td>\n",
       "    </tr>\n",
       "    <tr>\n",
       "      <th>1</th>\n",
       "      <td>DV-13045</td>\n",
       "      <td>Darrin Van Huff</td>\n",
       "      <td>Corporate</td>\n",
       "      <td>31</td>\n",
       "      <td>United States</td>\n",
       "      <td>Los Angeles</td>\n",
       "      <td>California</td>\n",
       "      <td>90036</td>\n",
       "      <td>West</td>\n",
       "    </tr>\n",
       "    <tr>\n",
       "      <th>2</th>\n",
       "      <td>SO-20335</td>\n",
       "      <td>Sean O'Donnell</td>\n",
       "      <td>Consumer</td>\n",
       "      <td>65</td>\n",
       "      <td>United States</td>\n",
       "      <td>Fort Lauderdale</td>\n",
       "      <td>Florida</td>\n",
       "      <td>33311</td>\n",
       "      <td>South</td>\n",
       "    </tr>\n",
       "    <tr>\n",
       "      <th>3</th>\n",
       "      <td>BH-11710</td>\n",
       "      <td>Brosina Hoffman</td>\n",
       "      <td>Consumer</td>\n",
       "      <td>20</td>\n",
       "      <td>United States</td>\n",
       "      <td>Los Angeles</td>\n",
       "      <td>California</td>\n",
       "      <td>90032</td>\n",
       "      <td>West</td>\n",
       "    </tr>\n",
       "    <tr>\n",
       "      <th>4</th>\n",
       "      <td>AA-10480</td>\n",
       "      <td>Andrew Allen</td>\n",
       "      <td>Consumer</td>\n",
       "      <td>50</td>\n",
       "      <td>United States</td>\n",
       "      <td>Concord</td>\n",
       "      <td>North Carolina</td>\n",
       "      <td>28027</td>\n",
       "      <td>South</td>\n",
       "    </tr>\n",
       "  </tbody>\n",
       "</table>\n",
       "</div>"
      ],
      "text/plain": [
       "  Customer ID    Customer Name    Segment  Age        Country  \\\n",
       "0    CG-12520      Claire Gute   Consumer   67  United States   \n",
       "1    DV-13045  Darrin Van Huff  Corporate   31  United States   \n",
       "2    SO-20335   Sean O'Donnell   Consumer   65  United States   \n",
       "3    BH-11710  Brosina Hoffman   Consumer   20  United States   \n",
       "4    AA-10480     Andrew Allen   Consumer   50  United States   \n",
       "\n",
       "              City           State  Postal Code Region  \n",
       "0        Henderson        Kentucky        42420  South  \n",
       "1      Los Angeles      California        90036   West  \n",
       "2  Fort Lauderdale         Florida        33311  South  \n",
       "3      Los Angeles      California        90032   West  \n",
       "4          Concord  North Carolina        28027  South  "
      ]
     },
     "execution_count": 83,
     "metadata": {},
     "output_type": "execute_result"
    }
   ],
   "source": [
    "#for accessing a csv file\n",
    "#pandas function to import csv,\n",
    "#variable= pd.read_csv(\"location\",header=0)\" \n",
    "# since our first row contains the header.\n",
    "data1=pd.read_csv(\"CrashCourseFiles/Customer.csv\",header=0)\n",
    "data1.head()#by default it provides 5 rows"
   ]
  },
  {
   "cell_type": "markdown",
   "id": "cd0cc5ff",
   "metadata": {},
   "source": [
    "### head command is use to give statistics of the data"
   ]
  },
  {
   "cell_type": "code",
   "execution_count": 84,
   "id": "6c24ed1f",
   "metadata": {},
   "outputs": [
    {
     "data": {
      "text/html": [
       "<div>\n",
       "<style scoped>\n",
       "    .dataframe tbody tr th:only-of-type {\n",
       "        vertical-align: middle;\n",
       "    }\n",
       "\n",
       "    .dataframe tbody tr th {\n",
       "        vertical-align: top;\n",
       "    }\n",
       "\n",
       "    .dataframe thead th {\n",
       "        text-align: right;\n",
       "    }\n",
       "</style>\n",
       "<table border=\"1\" class=\"dataframe\">\n",
       "  <thead>\n",
       "    <tr style=\"text-align: right;\">\n",
       "      <th></th>\n",
       "      <th>Customer ID</th>\n",
       "      <th>Customer Name</th>\n",
       "      <th>Segment</th>\n",
       "      <th>Age</th>\n",
       "      <th>Country</th>\n",
       "      <th>City</th>\n",
       "      <th>State</th>\n",
       "      <th>Postal Code</th>\n",
       "      <th>Region</th>\n",
       "    </tr>\n",
       "  </thead>\n",
       "  <tbody>\n",
       "    <tr>\n",
       "      <th>0</th>\n",
       "      <td>CG-12520</td>\n",
       "      <td>Claire Gute</td>\n",
       "      <td>Consumer</td>\n",
       "      <td>67</td>\n",
       "      <td>United States</td>\n",
       "      <td>Henderson</td>\n",
       "      <td>Kentucky</td>\n",
       "      <td>42420</td>\n",
       "      <td>South</td>\n",
       "    </tr>\n",
       "    <tr>\n",
       "      <th>1</th>\n",
       "      <td>DV-13045</td>\n",
       "      <td>Darrin Van Huff</td>\n",
       "      <td>Corporate</td>\n",
       "      <td>31</td>\n",
       "      <td>United States</td>\n",
       "      <td>Los Angeles</td>\n",
       "      <td>California</td>\n",
       "      <td>90036</td>\n",
       "      <td>West</td>\n",
       "    </tr>\n",
       "    <tr>\n",
       "      <th>2</th>\n",
       "      <td>SO-20335</td>\n",
       "      <td>Sean O'Donnell</td>\n",
       "      <td>Consumer</td>\n",
       "      <td>65</td>\n",
       "      <td>United States</td>\n",
       "      <td>Fort Lauderdale</td>\n",
       "      <td>Florida</td>\n",
       "      <td>33311</td>\n",
       "      <td>South</td>\n",
       "    </tr>\n",
       "    <tr>\n",
       "      <th>3</th>\n",
       "      <td>BH-11710</td>\n",
       "      <td>Brosina Hoffman</td>\n",
       "      <td>Consumer</td>\n",
       "      <td>20</td>\n",
       "      <td>United States</td>\n",
       "      <td>Los Angeles</td>\n",
       "      <td>California</td>\n",
       "      <td>90032</td>\n",
       "      <td>West</td>\n",
       "    </tr>\n",
       "    <tr>\n",
       "      <th>4</th>\n",
       "      <td>AA-10480</td>\n",
       "      <td>Andrew Allen</td>\n",
       "      <td>Consumer</td>\n",
       "      <td>50</td>\n",
       "      <td>United States</td>\n",
       "      <td>Concord</td>\n",
       "      <td>North Carolina</td>\n",
       "      <td>28027</td>\n",
       "      <td>South</td>\n",
       "    </tr>\n",
       "    <tr>\n",
       "      <th>5</th>\n",
       "      <td>IM-15070</td>\n",
       "      <td>Irene Maddox</td>\n",
       "      <td>Consumer</td>\n",
       "      <td>66</td>\n",
       "      <td>United States</td>\n",
       "      <td>Seattle</td>\n",
       "      <td>Washington</td>\n",
       "      <td>98103</td>\n",
       "      <td>West</td>\n",
       "    </tr>\n",
       "    <tr>\n",
       "      <th>6</th>\n",
       "      <td>HP-14815</td>\n",
       "      <td>Harold Pawlan</td>\n",
       "      <td>Home Office</td>\n",
       "      <td>20</td>\n",
       "      <td>United States</td>\n",
       "      <td>Fort Worth</td>\n",
       "      <td>Texas</td>\n",
       "      <td>76106</td>\n",
       "      <td>Central</td>\n",
       "    </tr>\n",
       "    <tr>\n",
       "      <th>7</th>\n",
       "      <td>PK-19075</td>\n",
       "      <td>Pete Kriz</td>\n",
       "      <td>Consumer</td>\n",
       "      <td>46</td>\n",
       "      <td>United States</td>\n",
       "      <td>Madison</td>\n",
       "      <td>Wisconsin</td>\n",
       "      <td>53711</td>\n",
       "      <td>Central</td>\n",
       "    </tr>\n",
       "    <tr>\n",
       "      <th>8</th>\n",
       "      <td>AG-10270</td>\n",
       "      <td>Alejandro Grove</td>\n",
       "      <td>Consumer</td>\n",
       "      <td>18</td>\n",
       "      <td>United States</td>\n",
       "      <td>West Jordan</td>\n",
       "      <td>Utah</td>\n",
       "      <td>84084</td>\n",
       "      <td>West</td>\n",
       "    </tr>\n",
       "    <tr>\n",
       "      <th>9</th>\n",
       "      <td>ZD-21925</td>\n",
       "      <td>Zuschuss Donatelli</td>\n",
       "      <td>Consumer</td>\n",
       "      <td>66</td>\n",
       "      <td>United States</td>\n",
       "      <td>San Francisco</td>\n",
       "      <td>California</td>\n",
       "      <td>94109</td>\n",
       "      <td>West</td>\n",
       "    </tr>\n",
       "  </tbody>\n",
       "</table>\n",
       "</div>"
      ],
      "text/plain": [
       "  Customer ID       Customer Name      Segment  Age        Country  \\\n",
       "0    CG-12520         Claire Gute     Consumer   67  United States   \n",
       "1    DV-13045     Darrin Van Huff    Corporate   31  United States   \n",
       "2    SO-20335      Sean O'Donnell     Consumer   65  United States   \n",
       "3    BH-11710     Brosina Hoffman     Consumer   20  United States   \n",
       "4    AA-10480        Andrew Allen     Consumer   50  United States   \n",
       "5    IM-15070        Irene Maddox     Consumer   66  United States   \n",
       "6    HP-14815       Harold Pawlan  Home Office   20  United States   \n",
       "7    PK-19075           Pete Kriz     Consumer   46  United States   \n",
       "8    AG-10270     Alejandro Grove     Consumer   18  United States   \n",
       "9    ZD-21925  Zuschuss Donatelli     Consumer   66  United States   \n",
       "\n",
       "              City           State  Postal Code   Region  \n",
       "0        Henderson        Kentucky        42420    South  \n",
       "1      Los Angeles      California        90036     West  \n",
       "2  Fort Lauderdale         Florida        33311    South  \n",
       "3      Los Angeles      California        90032     West  \n",
       "4          Concord  North Carolina        28027    South  \n",
       "5          Seattle      Washington        98103     West  \n",
       "6       Fort Worth           Texas        76106  Central  \n",
       "7          Madison       Wisconsin        53711  Central  \n",
       "8      West Jordan            Utah        84084     West  \n",
       "9    San Francisco      California        94109     West  "
      ]
     },
     "execution_count": 84,
     "metadata": {},
     "output_type": "execute_result"
    }
   ],
   "source": [
    "#for specific no of rows\n",
    "# head command is use to give statistics of the data\n",
    "data1.head(10)"
   ]
  },
  {
   "cell_type": "markdown",
   "id": "0d05a35b",
   "metadata": {},
   "source": [
    "### if we want to remove our index column"
   ]
  },
  {
   "cell_type": "code",
   "execution_count": 85,
   "id": "f11064d2",
   "metadata": {},
   "outputs": [
    {
     "data": {
      "text/html": [
       "<div>\n",
       "<style scoped>\n",
       "    .dataframe tbody tr th:only-of-type {\n",
       "        vertical-align: middle;\n",
       "    }\n",
       "\n",
       "    .dataframe tbody tr th {\n",
       "        vertical-align: top;\n",
       "    }\n",
       "\n",
       "    .dataframe thead th {\n",
       "        text-align: right;\n",
       "    }\n",
       "</style>\n",
       "<table border=\"1\" class=\"dataframe\">\n",
       "  <thead>\n",
       "    <tr style=\"text-align: right;\">\n",
       "      <th></th>\n",
       "      <th>Customer Name</th>\n",
       "      <th>Segment</th>\n",
       "      <th>Age</th>\n",
       "      <th>Country</th>\n",
       "      <th>City</th>\n",
       "      <th>State</th>\n",
       "      <th>Postal Code</th>\n",
       "      <th>Region</th>\n",
       "    </tr>\n",
       "    <tr>\n",
       "      <th>Customer ID</th>\n",
       "      <th></th>\n",
       "      <th></th>\n",
       "      <th></th>\n",
       "      <th></th>\n",
       "      <th></th>\n",
       "      <th></th>\n",
       "      <th></th>\n",
       "      <th></th>\n",
       "    </tr>\n",
       "  </thead>\n",
       "  <tbody>\n",
       "    <tr>\n",
       "      <th>CG-12520</th>\n",
       "      <td>Claire Gute</td>\n",
       "      <td>Consumer</td>\n",
       "      <td>67</td>\n",
       "      <td>United States</td>\n",
       "      <td>Henderson</td>\n",
       "      <td>Kentucky</td>\n",
       "      <td>42420</td>\n",
       "      <td>South</td>\n",
       "    </tr>\n",
       "    <tr>\n",
       "      <th>DV-13045</th>\n",
       "      <td>Darrin Van Huff</td>\n",
       "      <td>Corporate</td>\n",
       "      <td>31</td>\n",
       "      <td>United States</td>\n",
       "      <td>Los Angeles</td>\n",
       "      <td>California</td>\n",
       "      <td>90036</td>\n",
       "      <td>West</td>\n",
       "    </tr>\n",
       "    <tr>\n",
       "      <th>SO-20335</th>\n",
       "      <td>Sean O'Donnell</td>\n",
       "      <td>Consumer</td>\n",
       "      <td>65</td>\n",
       "      <td>United States</td>\n",
       "      <td>Fort Lauderdale</td>\n",
       "      <td>Florida</td>\n",
       "      <td>33311</td>\n",
       "      <td>South</td>\n",
       "    </tr>\n",
       "    <tr>\n",
       "      <th>BH-11710</th>\n",
       "      <td>Brosina Hoffman</td>\n",
       "      <td>Consumer</td>\n",
       "      <td>20</td>\n",
       "      <td>United States</td>\n",
       "      <td>Los Angeles</td>\n",
       "      <td>California</td>\n",
       "      <td>90032</td>\n",
       "      <td>West</td>\n",
       "    </tr>\n",
       "    <tr>\n",
       "      <th>AA-10480</th>\n",
       "      <td>Andrew Allen</td>\n",
       "      <td>Consumer</td>\n",
       "      <td>50</td>\n",
       "      <td>United States</td>\n",
       "      <td>Concord</td>\n",
       "      <td>North Carolina</td>\n",
       "      <td>28027</td>\n",
       "      <td>South</td>\n",
       "    </tr>\n",
       "  </tbody>\n",
       "</table>\n",
       "</div>"
      ],
      "text/plain": [
       "               Customer Name    Segment  Age        Country             City  \\\n",
       "Customer ID                                                                    \n",
       "CG-12520         Claire Gute   Consumer   67  United States        Henderson   \n",
       "DV-13045     Darrin Van Huff  Corporate   31  United States      Los Angeles   \n",
       "SO-20335      Sean O'Donnell   Consumer   65  United States  Fort Lauderdale   \n",
       "BH-11710     Brosina Hoffman   Consumer   20  United States      Los Angeles   \n",
       "AA-10480        Andrew Allen   Consumer   50  United States          Concord   \n",
       "\n",
       "                      State  Postal Code Region  \n",
       "Customer ID                                      \n",
       "CG-12520           Kentucky        42420  South  \n",
       "DV-13045         California        90036   West  \n",
       "SO-20335            Florida        33311  South  \n",
       "BH-11710         California        90032   West  \n",
       "AA-10480     North Carolina        28027  South  "
      ]
     },
     "execution_count": 85,
     "metadata": {},
     "output_type": "execute_result"
    }
   ],
   "source": [
    "# if we want to remove our index column\n",
    "data2=pd.read_csv(\"CrashCourseFiles/Customer.csv\",header=0,index_col=0)\n",
    "data2.head()"
   ]
  },
  {
   "cell_type": "markdown",
   "id": "5d1f56ac",
   "metadata": {},
   "source": [
    "### description of dataset"
   ]
  },
  {
   "cell_type": "code",
   "execution_count": 86,
   "id": "c3a5b2e8",
   "metadata": {},
   "outputs": [
    {
     "data": {
      "text/html": [
       "<div>\n",
       "<style scoped>\n",
       "    .dataframe tbody tr th:only-of-type {\n",
       "        vertical-align: middle;\n",
       "    }\n",
       "\n",
       "    .dataframe tbody tr th {\n",
       "        vertical-align: top;\n",
       "    }\n",
       "\n",
       "    .dataframe thead th {\n",
       "        text-align: right;\n",
       "    }\n",
       "</style>\n",
       "<table border=\"1\" class=\"dataframe\">\n",
       "  <thead>\n",
       "    <tr style=\"text-align: right;\">\n",
       "      <th></th>\n",
       "      <th>Age</th>\n",
       "      <th>Postal Code</th>\n",
       "    </tr>\n",
       "  </thead>\n",
       "  <tbody>\n",
       "    <tr>\n",
       "      <th>count</th>\n",
       "      <td>793.000000</td>\n",
       "      <td>793.000000</td>\n",
       "    </tr>\n",
       "    <tr>\n",
       "      <th>mean</th>\n",
       "      <td>44.467844</td>\n",
       "      <td>55229.717528</td>\n",
       "    </tr>\n",
       "    <tr>\n",
       "      <th>std</th>\n",
       "      <td>15.526673</td>\n",
       "      <td>31679.223816</td>\n",
       "    </tr>\n",
       "    <tr>\n",
       "      <th>min</th>\n",
       "      <td>18.000000</td>\n",
       "      <td>1841.000000</td>\n",
       "    </tr>\n",
       "    <tr>\n",
       "      <th>25%</th>\n",
       "      <td>31.000000</td>\n",
       "      <td>27217.000000</td>\n",
       "    </tr>\n",
       "    <tr>\n",
       "      <th>50%</th>\n",
       "      <td>45.000000</td>\n",
       "      <td>55901.000000</td>\n",
       "    </tr>\n",
       "    <tr>\n",
       "      <th>75%</th>\n",
       "      <td>58.000000</td>\n",
       "      <td>90004.000000</td>\n",
       "    </tr>\n",
       "    <tr>\n",
       "      <th>max</th>\n",
       "      <td>70.000000</td>\n",
       "      <td>99207.000000</td>\n",
       "    </tr>\n",
       "  </tbody>\n",
       "</table>\n",
       "</div>"
      ],
      "text/plain": [
       "              Age   Postal Code\n",
       "count  793.000000    793.000000\n",
       "mean    44.467844  55229.717528\n",
       "std     15.526673  31679.223816\n",
       "min     18.000000   1841.000000\n",
       "25%     31.000000  27217.000000\n",
       "50%     45.000000  55901.000000\n",
       "75%     58.000000  90004.000000\n",
       "max     70.000000  99207.000000"
      ]
     },
     "execution_count": 86,
     "metadata": {},
     "output_type": "execute_result"
    }
   ],
   "source": [
    "# if we want description\n",
    "data2.describe() # it will give the mean max min of all the values\n"
   ]
  },
  {
   "cell_type": "markdown",
   "id": "f02c3016",
   "metadata": {},
   "source": [
    "## for accessing a row\n",
    "### if we know the pos then use the iloc \n",
    "### if we know the value use loc"
   ]
  },
  {
   "cell_type": "code",
   "execution_count": 87,
   "id": "28018f94",
   "metadata": {},
   "outputs": [
    {
     "data": {
      "text/plain": [
       "Customer ID           CG-12520\n",
       "Customer Name      Claire Gute\n",
       "Segment               Consumer\n",
       "Age                         67\n",
       "Country          United States\n",
       "City                 Henderson\n",
       "State                 Kentucky\n",
       "Postal Code              42420\n",
       "Region                   South\n",
       "Name: 0, dtype: object"
      ]
     },
     "execution_count": 87,
     "metadata": {},
     "output_type": "execute_result"
    }
   ],
   "source": [
    "# to view the first row of our data\n",
    "data1.iloc[0] #it uses index number to provides the row data \n",
    "# it will dispaly all the values of first row of our dataframe"
   ]
  },
  {
   "cell_type": "code",
   "execution_count": 88,
   "id": "6db01b2c",
   "metadata": {},
   "outputs": [
    {
     "data": {
      "text/plain": [
       "Customer Name      Claire Gute\n",
       "Segment               Consumer\n",
       "Age                         67\n",
       "Country          United States\n",
       "City                 Henderson\n",
       "State                 Kentucky\n",
       "Postal Code              42420\n",
       "Region                   South\n",
       "Name: CG-12520, dtype: object"
      ]
     },
     "execution_count": 88,
     "metadata": {},
     "output_type": "execute_result"
    }
   ],
   "source": [
    "# for accessing a row with a particular value\n",
    "data2.loc[\"CG-12520\"] #it uses key value to provides the row data "
   ]
  },
  {
   "cell_type": "code",
   "execution_count": 89,
   "id": "189943a5",
   "metadata": {},
   "outputs": [],
   "source": [
    "# if we know the pos then use the iloc \n",
    "# if we know the value use loc"
   ]
  },
  {
   "cell_type": "code",
   "execution_count": 90,
   "id": "6804cf54",
   "metadata": {},
   "outputs": [
    {
     "data": {
      "text/html": [
       "<div>\n",
       "<style scoped>\n",
       "    .dataframe tbody tr th:only-of-type {\n",
       "        vertical-align: middle;\n",
       "    }\n",
       "\n",
       "    .dataframe tbody tr th {\n",
       "        vertical-align: top;\n",
       "    }\n",
       "\n",
       "    .dataframe thead th {\n",
       "        text-align: right;\n",
       "    }\n",
       "</style>\n",
       "<table border=\"1\" class=\"dataframe\">\n",
       "  <thead>\n",
       "    <tr style=\"text-align: right;\">\n",
       "      <th></th>\n",
       "      <th>Customer Name</th>\n",
       "      <th>Segment</th>\n",
       "      <th>Age</th>\n",
       "      <th>Country</th>\n",
       "      <th>City</th>\n",
       "      <th>State</th>\n",
       "      <th>Postal Code</th>\n",
       "      <th>Region</th>\n",
       "    </tr>\n",
       "    <tr>\n",
       "      <th>Customer ID</th>\n",
       "      <th></th>\n",
       "      <th></th>\n",
       "      <th></th>\n",
       "      <th></th>\n",
       "      <th></th>\n",
       "      <th></th>\n",
       "      <th></th>\n",
       "      <th></th>\n",
       "    </tr>\n",
       "  </thead>\n",
       "  <tbody>\n",
       "    <tr>\n",
       "      <th>CG-12520</th>\n",
       "      <td>Claire Gute</td>\n",
       "      <td>Consumer</td>\n",
       "      <td>67</td>\n",
       "      <td>United States</td>\n",
       "      <td>Henderson</td>\n",
       "      <td>Kentucky</td>\n",
       "      <td>42420</td>\n",
       "      <td>South</td>\n",
       "    </tr>\n",
       "    <tr>\n",
       "      <th>DV-13045</th>\n",
       "      <td>Darrin Van Huff</td>\n",
       "      <td>Corporate</td>\n",
       "      <td>31</td>\n",
       "      <td>United States</td>\n",
       "      <td>Los Angeles</td>\n",
       "      <td>California</td>\n",
       "      <td>90036</td>\n",
       "      <td>West</td>\n",
       "    </tr>\n",
       "    <tr>\n",
       "      <th>SO-20335</th>\n",
       "      <td>Sean O'Donnell</td>\n",
       "      <td>Consumer</td>\n",
       "      <td>65</td>\n",
       "      <td>United States</td>\n",
       "      <td>Fort Lauderdale</td>\n",
       "      <td>Florida</td>\n",
       "      <td>33311</td>\n",
       "      <td>South</td>\n",
       "    </tr>\n",
       "    <tr>\n",
       "      <th>BH-11710</th>\n",
       "      <td>Brosina Hoffman</td>\n",
       "      <td>Consumer</td>\n",
       "      <td>20</td>\n",
       "      <td>United States</td>\n",
       "      <td>Los Angeles</td>\n",
       "      <td>California</td>\n",
       "      <td>90032</td>\n",
       "      <td>West</td>\n",
       "    </tr>\n",
       "    <tr>\n",
       "      <th>AA-10480</th>\n",
       "      <td>Andrew Allen</td>\n",
       "      <td>Consumer</td>\n",
       "      <td>50</td>\n",
       "      <td>United States</td>\n",
       "      <td>Concord</td>\n",
       "      <td>North Carolina</td>\n",
       "      <td>28027</td>\n",
       "      <td>South</td>\n",
       "    </tr>\n",
       "  </tbody>\n",
       "</table>\n",
       "</div>"
      ],
      "text/plain": [
       "               Customer Name    Segment  Age        Country             City  \\\n",
       "Customer ID                                                                    \n",
       "CG-12520         Claire Gute   Consumer   67  United States        Henderson   \n",
       "DV-13045     Darrin Van Huff  Corporate   31  United States      Los Angeles   \n",
       "SO-20335      Sean O'Donnell   Consumer   65  United States  Fort Lauderdale   \n",
       "BH-11710     Brosina Hoffman   Consumer   20  United States      Los Angeles   \n",
       "AA-10480        Andrew Allen   Consumer   50  United States          Concord   \n",
       "\n",
       "                      State  Postal Code Region  \n",
       "Customer ID                                      \n",
       "CG-12520           Kentucky        42420  South  \n",
       "DV-13045         California        90036   West  \n",
       "SO-20335            Florida        33311  South  \n",
       "BH-11710         California        90032   West  \n",
       "AA-10480     North Carolina        28027  South  "
      ]
     },
     "execution_count": 90,
     "metadata": {},
     "output_type": "execute_result"
    }
   ],
   "source": [
    "# we can also get a range of rows\n",
    "data2.iloc[0:5] #0,1,2,3,4 \n",
    "# it will show the data of first 5 rows"
   ]
  },
  {
   "cell_type": "code",
   "execution_count": 91,
   "id": "9e1b0d05",
   "metadata": {},
   "outputs": [
    {
     "data": {
      "text/html": [
       "<div>\n",
       "<style scoped>\n",
       "    .dataframe tbody tr th:only-of-type {\n",
       "        vertical-align: middle;\n",
       "    }\n",
       "\n",
       "    .dataframe tbody tr th {\n",
       "        vertical-align: top;\n",
       "    }\n",
       "\n",
       "    .dataframe thead th {\n",
       "        text-align: right;\n",
       "    }\n",
       "</style>\n",
       "<table border=\"1\" class=\"dataframe\">\n",
       "  <thead>\n",
       "    <tr style=\"text-align: right;\">\n",
       "      <th></th>\n",
       "      <th>Customer Name</th>\n",
       "      <th>Segment</th>\n",
       "      <th>Age</th>\n",
       "      <th>Country</th>\n",
       "      <th>City</th>\n",
       "      <th>State</th>\n",
       "      <th>Postal Code</th>\n",
       "      <th>Region</th>\n",
       "    </tr>\n",
       "    <tr>\n",
       "      <th>Customer ID</th>\n",
       "      <th></th>\n",
       "      <th></th>\n",
       "      <th></th>\n",
       "      <th></th>\n",
       "      <th></th>\n",
       "      <th></th>\n",
       "      <th></th>\n",
       "      <th></th>\n",
       "    </tr>\n",
       "  </thead>\n",
       "  <tbody>\n",
       "    <tr>\n",
       "      <th>CG-12520</th>\n",
       "      <td>Claire Gute</td>\n",
       "      <td>Consumer</td>\n",
       "      <td>67</td>\n",
       "      <td>United States</td>\n",
       "      <td>Henderson</td>\n",
       "      <td>Kentucky</td>\n",
       "      <td>42420</td>\n",
       "      <td>South</td>\n",
       "    </tr>\n",
       "    <tr>\n",
       "      <th>SO-20335</th>\n",
       "      <td>Sean O'Donnell</td>\n",
       "      <td>Consumer</td>\n",
       "      <td>65</td>\n",
       "      <td>United States</td>\n",
       "      <td>Fort Lauderdale</td>\n",
       "      <td>Florida</td>\n",
       "      <td>33311</td>\n",
       "      <td>South</td>\n",
       "    </tr>\n",
       "    <tr>\n",
       "      <th>AA-10480</th>\n",
       "      <td>Andrew Allen</td>\n",
       "      <td>Consumer</td>\n",
       "      <td>50</td>\n",
       "      <td>United States</td>\n",
       "      <td>Concord</td>\n",
       "      <td>North Carolina</td>\n",
       "      <td>28027</td>\n",
       "      <td>South</td>\n",
       "    </tr>\n",
       "    <tr>\n",
       "      <th>HP-14815</th>\n",
       "      <td>Harold Pawlan</td>\n",
       "      <td>Home Office</td>\n",
       "      <td>20</td>\n",
       "      <td>United States</td>\n",
       "      <td>Fort Worth</td>\n",
       "      <td>Texas</td>\n",
       "      <td>76106</td>\n",
       "      <td>Central</td>\n",
       "    </tr>\n",
       "    <tr>\n",
       "      <th>AG-10270</th>\n",
       "      <td>Alejandro Grove</td>\n",
       "      <td>Consumer</td>\n",
       "      <td>18</td>\n",
       "      <td>United States</td>\n",
       "      <td>West Jordan</td>\n",
       "      <td>Utah</td>\n",
       "      <td>84084</td>\n",
       "      <td>West</td>\n",
       "    </tr>\n",
       "  </tbody>\n",
       "</table>\n",
       "</div>"
      ],
      "text/plain": [
       "               Customer Name      Segment  Age        Country  \\\n",
       "Customer ID                                                     \n",
       "CG-12520         Claire Gute     Consumer   67  United States   \n",
       "SO-20335      Sean O'Donnell     Consumer   65  United States   \n",
       "AA-10480        Andrew Allen     Consumer   50  United States   \n",
       "HP-14815       Harold Pawlan  Home Office   20  United States   \n",
       "AG-10270     Alejandro Grove     Consumer   18  United States   \n",
       "\n",
       "                        City           State  Postal Code   Region  \n",
       "Customer ID                                                         \n",
       "CG-12520           Henderson        Kentucky        42420    South  \n",
       "SO-20335     Fort Lauderdale         Florida        33311    South  \n",
       "AA-10480             Concord  North Carolina        28027    South  \n",
       "HP-14815          Fort Worth           Texas        76106  Central  \n",
       "AG-10270         West Jordan            Utah        84084     West  "
      ]
     },
     "execution_count": 91,
     "metadata": {},
     "output_type": "execute_result"
    }
   ],
   "source": [
    "# we can use steps also\n",
    "data2.iloc[0:10:2] #its printing alternative rows"
   ]
  },
  {
   "cell_type": "markdown",
   "id": "a6676f80",
   "metadata": {},
   "source": [
    "## SEABORN LIBRARY"
   ]
  },
  {
   "cell_type": "markdown",
   "id": "7570c48a",
   "metadata": {},
   "source": [
    "### Importing SEABORN"
   ]
  },
  {
   "cell_type": "code",
   "execution_count": 92,
   "id": "5dc7eb5f",
   "metadata": {},
   "outputs": [],
   "source": [
    "#seaborn is a library for data visualisation\n",
    "# most commanly used library is math.lib\n",
    "# but seaborn is much more suited\n",
    "# like every library we have to import this also\n",
    "\n",
    "import seaborn as sns"
   ]
  },
  {
   "cell_type": "markdown",
   "id": "e226d116",
   "metadata": {},
   "source": [
    "### plot the distribution graph of an variable"
   ]
  },
  {
   "cell_type": "code",
   "execution_count": 93,
   "id": "ea69297f",
   "metadata": {},
   "outputs": [
    {
     "data": {
      "text/plain": [
       "<seaborn.axisgrid.FacetGrid at 0x21a6075d070>"
      ]
     },
     "execution_count": 93,
     "metadata": {},
     "output_type": "execute_result"
    },
    {
     "data": {
      "image/png": "[encoded data removed]",
      "text/plain": [
       "<Figure size 360x360 with 1 Axes>"
      ]
     },
     "metadata": {
      "needs_background": "light"
     },
     "output_type": "display_data"
    }
   ],
   "source": [
    "# to plot the distribution graph of an variable \n",
    "sns.displot(data2.Age) #his is the graph of our age variable\n",
    "#this is called histograph"
   ]
  },
  {
   "cell_type": "code",
   "execution_count": 94,
   "id": "48e142b1",
   "metadata": {},
   "outputs": [
    {
     "data": {
      "text/plain": [
       "<seaborn.axisgrid.FacetGrid at 0x21a60513790>"
      ]
     },
     "execution_count": 94,
     "metadata": {},
     "output_type": "execute_result"
    },
    {
     "data": {
      "image/png": "[encoded data removed]",
      "text/plain": [
       "<Figure size 360x360 with 1 Axes>"
      ]
     },
     "metadata": {
      "needs_background": "light"
     },
     "output_type": "display_data"
    }
   ],
   "source": [
    "# the line is known as kde which is by default false\n",
    "sns.displot(data2.Age,kde=True)"
   ]
  },
  {
   "cell_type": "code",
   "execution_count": 95,
   "id": "05218334",
   "metadata": {},
   "outputs": [
    {
     "name": "stdout",
     "output_type": "stream",
     "text": [
      "Help on function displot in module seaborn.distributions:\n",
      "\n",
      "displot(data=None, *, x=None, y=None, hue=None, row=None, col=None, weights=None, kind='hist', rug=False, rug_kws=None, log_scale=None, legend=True, palette=None, hue_order=None, hue_norm=None, color=None, col_wrap=None, row_order=None, col_order=None, height=5, aspect=1, facet_kws=None, **kwargs)\n",
      "    Figure-level interface for drawing distribution plots onto a FacetGrid.\n",
      "    \n",
      "    This function provides access to several approaches for visualizing the\n",
      "    univariate or bivariate distribution of data, including subsets of data\n",
      "    defined by semantic mapping and faceting across multiple subplots. The\n",
      "    ``kind`` parameter selects the approach to use:\n",
      "    \n",
      "    - :func:`histplot` (with ``kind=\"hist\"``; the default)\n",
      "    - :func:`kdeplot` (with ``kind=\"kde\"``)\n",
      "    - :func:`ecdfplot` (with ``kind=\"ecdf\"``; univariate-only)\n",
      "    \n",
      "    Additionally, a :func:`rugplot` can be added to any kind of plot to show\n",
      "    individual observations.\n",
      "    \n",
      "    Extra keyword arguments are passed to the underlying function, so you should\n",
      "    refer to the documentation for each to understand the complete set of options\n",
      "    for making plots with this interface.\n",
      "    \n",
      "    See the :doc:`distribution plots tutorial <../tutorial/distributions>` for a more\n",
      "    in-depth discussion of the relative strengths and weaknesses of each approach.\n",
      "    The distinction between figure-level and axes-level functions is explained\n",
      "    further in the :doc:`user guide <../tutorial/function_overview>`.\n",
      "    \n",
      "    Parameters\n",
      "    ----------\n",
      "    data : :class:`pandas.DataFrame`, :class:`numpy.ndarray`, mapping, or sequence\n",
      "        Input data structure. Either a long-form collection of vectors that can be\n",
      "        assigned to named variables or a wide-form dataset that will be internally\n",
      "        reshaped.\n",
      "    x, y : vectors or keys in ``data``\n",
      "        Variables that specify positions on the x and y axes.\n",
      "    hue : vector or key in ``data``\n",
      "        Semantic variable that is mapped to determine the color of plot elements.\n",
      "    row, col : vectors or keys in ``data``\n",
      "        Variables that define subsets to plot on different facets.    \n",
      "    kind : {\"hist\", \"kde\", \"ecdf\"}\n",
      "        Approach for visualizing the data. Selects the underlying plotting function\n",
      "        and determines the additional set of valid parameters.\n",
      "    rug : bool\n",
      "        If True, show each observation with marginal ticks (as in :func:`rugplot`).\n",
      "    rug_kws : dict\n",
      "        Parameters to control the appearance of the rug plot.\n",
      "    log_scale : bool or number, or pair of bools or numbers\n",
      "        Set a log scale on the data axis (or axes, with bivariate data) with the\n",
      "        given base (default 10), and evaluate the KDE in log space.\n",
      "    legend : bool\n",
      "        If False, suppress the legend for semantic variables.\n",
      "    palette : string, list, dict, or :class:`matplotlib.colors.Colormap`\n",
      "        Method for choosing the colors to use when mapping the ``hue`` semantic.\n",
      "        String values are passed to :func:`color_palette`. List or dict values\n",
      "        imply categorical mapping, while a colormap object implies numeric mapping.\n",
      "    hue_order : vector of strings\n",
      "        Specify the order of processing and plotting for categorical levels of the\n",
      "        ``hue`` semantic.\n",
      "    hue_norm : tuple or :class:`matplotlib.colors.Normalize`\n",
      "        Either a pair of values that set the normalization range in data units\n",
      "        or an object that will map from data units into a [0, 1] interval. Usage\n",
      "        implies numeric mapping.\n",
      "    color : :mod:`matplotlib color <matplotlib.colors>`\n",
      "        Single color specification for when hue mapping is not used. Otherwise, the\n",
      "        plot will try to hook into the matplotlib property cycle.\n",
      "    col_wrap : int\n",
      "        \"Wrap\" the column variable at this width, so that the column facets\n",
      "        span multiple rows. Incompatible with a ``row`` facet.    \n",
      "    {row,col}_order : vector of strings\n",
      "        Specify the order in which levels of the ``row`` and/or ``col`` variables\n",
      "        appear in the grid of subplots.    \n",
      "    height : scalar\n",
      "        Height (in inches) of each facet. See also: ``aspect``.    \n",
      "    aspect : scalar\n",
      "        Aspect ratio of each facet, so that ``aspect * height`` gives the width\n",
      "        of each facet in inches.    \n",
      "    facet_kws : dict\n",
      "        Additional parameters passed to :class:`FacetGrid`.\n",
      "    \n",
      "    kwargs\n",
      "        Other keyword arguments are documented with the relevant axes-level function:\n",
      "    \n",
      "        - :func:`histplot` (with ``kind=\"hist\"``)\n",
      "        - :func:`kdeplot` (with ``kind=\"kde\"``)\n",
      "        - :func:`ecdfplot` (with ``kind=\"ecdf\"``)\n",
      "    \n",
      "    Returns\n",
      "    -------\n",
      "    :class:`FacetGrid`\n",
      "        An object managing one or more subplots that correspond to conditional data\n",
      "        subsets with convenient methods for batch-setting of axes attributes.\n",
      "    \n",
      "    See Also\n",
      "    --------\n",
      "    histplot : Plot a histogram of binned counts with optional normalization or smoothing.\n",
      "    kdeplot : Plot univariate or bivariate distributions using kernel density estimation.\n",
      "    rugplot : Plot a tick at each observation value along the x and/or y axes.\n",
      "    ecdfplot : Plot empirical cumulative distribution functions.\n",
      "    jointplot : Draw a bivariate plot with univariate marginal distributions.\n",
      "    \n",
      "    Examples\n",
      "    --------\n",
      "    \n",
      "    See the API documentation for the axes-level functions for more details\n",
      "    about the breadth of options available for each plot kind.\n",
      "    \n",
      "    .. include:: ../docstrings/displot.rst\n",
      "\n"
     ]
    }
   ],
   "source": [
    "# to know about any function write help\n",
    "help(sns.displot)"
   ]
  },
  {
   "cell_type": "code",
   "execution_count": 96,
   "id": "85fb8d18",
   "metadata": {},
   "outputs": [
    {
     "data": {
      "text/plain": [
       "<seaborn.axisgrid.FacetGrid at 0x21a6081d8b0>"
      ]
     },
     "execution_count": 96,
     "metadata": {},
     "output_type": "execute_result"
    },
    {
     "data": {
      "image/png": "[encoded data removed]",
      "text/plain": [
       "<Figure size 360x360 with 1 Axes>"
      ]
     },
     "metadata": {
      "needs_background": "light"
     },
     "output_type": "display_data"
    }
   ],
   "source": [
    "# to change the colour of the graph\n",
    "sns.displot(data2.Age,color=\"purple\")"
   ]
  },
  {
   "cell_type": "markdown",
   "id": "3b4d4d32",
   "metadata": {},
   "source": [
    "### to load an inbuilt library"
   ]
  },
  {
   "cell_type": "code",
   "execution_count": 97,
   "id": "5f8bb74f",
   "metadata": {},
   "outputs": [
    {
     "data": {
      "text/html": [
       "<div>\n",
       "<style scoped>\n",
       "    .dataframe tbody tr th:only-of-type {\n",
       "        vertical-align: middle;\n",
       "    }\n",
       "\n",
       "    .dataframe tbody tr th {\n",
       "        vertical-align: top;\n",
       "    }\n",
       "\n",
       "    .dataframe thead th {\n",
       "        text-align: right;\n",
       "    }\n",
       "</style>\n",
       "<table border=\"1\" class=\"dataframe\">\n",
       "  <thead>\n",
       "    <tr style=\"text-align: right;\">\n",
       "      <th></th>\n",
       "      <th>sepal_length</th>\n",
       "      <th>sepal_width</th>\n",
       "      <th>petal_length</th>\n",
       "      <th>petal_width</th>\n",
       "      <th>species</th>\n",
       "    </tr>\n",
       "  </thead>\n",
       "  <tbody>\n",
       "    <tr>\n",
       "      <th>0</th>\n",
       "      <td>5.1</td>\n",
       "      <td>3.5</td>\n",
       "      <td>1.4</td>\n",
       "      <td>0.2</td>\n",
       "      <td>setosa</td>\n",
       "    </tr>\n",
       "    <tr>\n",
       "      <th>1</th>\n",
       "      <td>4.9</td>\n",
       "      <td>3.0</td>\n",
       "      <td>1.4</td>\n",
       "      <td>0.2</td>\n",
       "      <td>setosa</td>\n",
       "    </tr>\n",
       "    <tr>\n",
       "      <th>2</th>\n",
       "      <td>4.7</td>\n",
       "      <td>3.2</td>\n",
       "      <td>1.3</td>\n",
       "      <td>0.2</td>\n",
       "      <td>setosa</td>\n",
       "    </tr>\n",
       "    <tr>\n",
       "      <th>3</th>\n",
       "      <td>4.6</td>\n",
       "      <td>3.1</td>\n",
       "      <td>1.5</td>\n",
       "      <td>0.2</td>\n",
       "      <td>setosa</td>\n",
       "    </tr>\n",
       "    <tr>\n",
       "      <th>4</th>\n",
       "      <td>5.0</td>\n",
       "      <td>3.6</td>\n",
       "      <td>1.4</td>\n",
       "      <td>0.2</td>\n",
       "      <td>setosa</td>\n",
       "    </tr>\n",
       "  </tbody>\n",
       "</table>\n",
       "</div>"
      ],
      "text/plain": [
       "   sepal_length  sepal_width  petal_length  petal_width species\n",
       "0           5.1          3.5           1.4          0.2  setosa\n",
       "1           4.9          3.0           1.4          0.2  setosa\n",
       "2           4.7          3.2           1.3          0.2  setosa\n",
       "3           4.6          3.1           1.5          0.2  setosa\n",
       "4           5.0          3.6           1.4          0.2  setosa"
      ]
     },
     "execution_count": 97,
     "metadata": {},
     "output_type": "execute_result"
    }
   ],
   "source": [
    "# it has various inbuilt librarys\n",
    "# one of it is iris\n",
    "# iris is a  dataset of flowers\n",
    "iris=sns.load_dataset(\"iris\")\n",
    "iris.head()"
   ]
  },
  {
   "cell_type": "code",
   "execution_count": 98,
   "id": "93fcffff",
   "metadata": {},
   "outputs": [
    {
     "data": {
      "text/plain": [
       "(150, 5)"
      ]
     },
     "execution_count": 98,
     "metadata": {},
     "output_type": "execute_result"
    }
   ],
   "source": [
    "# to know the shape of the data set\n",
    "iris.shape #total 5 rows and 150 columns"
   ]
  },
  {
   "cell_type": "code",
   "execution_count": 99,
   "id": "9cfa6ef3",
   "metadata": {},
   "outputs": [
    {
     "data": {
      "text/html": [
       "<div>\n",
       "<style scoped>\n",
       "    .dataframe tbody tr th:only-of-type {\n",
       "        vertical-align: middle;\n",
       "    }\n",
       "\n",
       "    .dataframe tbody tr th {\n",
       "        vertical-align: top;\n",
       "    }\n",
       "\n",
       "    .dataframe thead th {\n",
       "        text-align: right;\n",
       "    }\n",
       "</style>\n",
       "<table border=\"1\" class=\"dataframe\">\n",
       "  <thead>\n",
       "    <tr style=\"text-align: right;\">\n",
       "      <th></th>\n",
       "      <th>sepal_length</th>\n",
       "      <th>sepal_width</th>\n",
       "      <th>petal_length</th>\n",
       "      <th>petal_width</th>\n",
       "    </tr>\n",
       "  </thead>\n",
       "  <tbody>\n",
       "    <tr>\n",
       "      <th>count</th>\n",
       "      <td>150.000000</td>\n",
       "      <td>150.000000</td>\n",
       "      <td>150.000000</td>\n",
       "      <td>150.000000</td>\n",
       "    </tr>\n",
       "    <tr>\n",
       "      <th>mean</th>\n",
       "      <td>5.843333</td>\n",
       "      <td>3.057333</td>\n",
       "      <td>3.758000</td>\n",
       "      <td>1.199333</td>\n",
       "    </tr>\n",
       "    <tr>\n",
       "      <th>std</th>\n",
       "      <td>0.828066</td>\n",
       "      <td>0.435866</td>\n",
       "      <td>1.765298</td>\n",
       "      <td>0.762238</td>\n",
       "    </tr>\n",
       "    <tr>\n",
       "      <th>min</th>\n",
       "      <td>4.300000</td>\n",
       "      <td>2.000000</td>\n",
       "      <td>1.000000</td>\n",
       "      <td>0.100000</td>\n",
       "    </tr>\n",
       "    <tr>\n",
       "      <th>25%</th>\n",
       "      <td>5.100000</td>\n",
       "      <td>2.800000</td>\n",
       "      <td>1.600000</td>\n",
       "      <td>0.300000</td>\n",
       "    </tr>\n",
       "    <tr>\n",
       "      <th>50%</th>\n",
       "      <td>5.800000</td>\n",
       "      <td>3.000000</td>\n",
       "      <td>4.350000</td>\n",
       "      <td>1.300000</td>\n",
       "    </tr>\n",
       "    <tr>\n",
       "      <th>75%</th>\n",
       "      <td>6.400000</td>\n",
       "      <td>3.300000</td>\n",
       "      <td>5.100000</td>\n",
       "      <td>1.800000</td>\n",
       "    </tr>\n",
       "    <tr>\n",
       "      <th>max</th>\n",
       "      <td>7.900000</td>\n",
       "      <td>4.400000</td>\n",
       "      <td>6.900000</td>\n",
       "      <td>2.500000</td>\n",
       "    </tr>\n",
       "  </tbody>\n",
       "</table>\n",
       "</div>"
      ],
      "text/plain": [
       "       sepal_length  sepal_width  petal_length  petal_width\n",
       "count    150.000000   150.000000    150.000000   150.000000\n",
       "mean       5.843333     3.057333      3.758000     1.199333\n",
       "std        0.828066     0.435866      1.765298     0.762238\n",
       "min        4.300000     2.000000      1.000000     0.100000\n",
       "25%        5.100000     2.800000      1.600000     0.300000\n",
       "50%        5.800000     3.000000      4.350000     1.300000\n",
       "75%        6.400000     3.300000      5.100000     1.800000\n",
       "max        7.900000     4.400000      6.900000     2.500000"
      ]
     },
     "execution_count": 99,
     "metadata": {},
     "output_type": "execute_result"
    }
   ],
   "source": [
    "# to get the mean,min,max value we can write iris.describe\n",
    "iris.describe()# show the statistics of 4 columns"
   ]
  },
  {
   "cell_type": "markdown",
   "id": "890c3a44",
   "metadata": {},
   "source": [
    "## to plot a specific starter plot graph"
   ]
  },
  {
   "cell_type": "code",
   "execution_count": 100,
   "id": "b0a235c3",
   "metadata": {},
   "outputs": [
    {
     "data": {
      "text/plain": [
       "<seaborn.axisgrid.JointGrid at 0x21a60848370>"
      ]
     },
     "execution_count": 100,
     "metadata": {},
     "output_type": "execute_result"
    },
    {
     "data": {
      "image/png": "[encoded data removed]",
      "text/plain": [
       "<Figure size 432x432 with 3 Axes>"
      ]
     },
     "metadata": {
      "needs_background": "light"
     },
     "output_type": "display_data"
    }
   ],
   "source": [
    "# to plot a graph(staterplot) between sepal_length and sepal_width\n",
    "#sns.jointplot(x=\"col1\",y=\"col2\",data=\"which dataset you want\")\n",
    "sns.jointplot(x=\"sepal_length\",y=\"sepal_width\",data=iris)"
   ]
  },
  {
   "cell_type": "markdown",
   "id": "ca35d5fc",
   "metadata": {},
   "source": [
    "## with pairplot command we'll get the stater plot graph for all the variable"
   ]
  },
  {
   "cell_type": "code",
   "execution_count": 101,
   "id": "06af2dc9",
   "metadata": {},
   "outputs": [
    {
     "data": {
      "text/plain": [
       "<seaborn.axisgrid.PairGrid at 0x21a605138b0>"
      ]
     },
     "execution_count": 101,
     "metadata": {},
     "output_type": "execute_result"
    },
    {
     "data": {
      "image/png": "[encoded data removed]",
      "text/plain": [
       "<Figure size 720x720 with 20 Axes>"
      ]
     },
     "metadata": {
      "needs_background": "light"
     },
     "output_type": "display_data"
    }
   ],
   "source": [
    "# pair plot\n",
    "# it will create stater polt for all the variables\n",
    "# it is a very useful command \n",
    "# with one command we'll get the stater plot for all the variables\n",
    "sns.pairplot(iris)"
   ]
  }
 ],
 "metadata": {
  "kernelspec": {
   "display_name": "Python 3",
   "language": "python",
   "name": "python3"
  },
  "language_info": {
   "codemirror_mode": {
    "name": "ipython",
    "version": 3
   },
   "file_extension": ".py",
   "mimetype": "text/x-python",
   "name": "python",
   "nbconvert_exporter": "python",
   "pygments_lexer": "ipython3",
   "version": "3.8.5"
  }
 },
 "nbformat": 4,
 "nbformat_minor": 5
}
