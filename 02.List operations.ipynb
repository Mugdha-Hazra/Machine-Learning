{
 "cells": [
  {
   "cell_type": "markdown",
   "id": "304e85ac",
   "metadata": {},
   "source": [
    "## LISTS:"
   ]
  },
  {
   "cell_type": "markdown",
   "id": "b5a8ee26",
   "metadata": {},
   "source": [
    "### Defining a List "
   ]
  },
  {
   "cell_type": "code",
   "execution_count": 159,
   "id": "78f4fab1",
   "metadata": {},
   "outputs": [
    {
     "data": {
      "text/plain": [
       "list"
      ]
     },
     "execution_count": 159,
     "metadata": {},
     "output_type": "execute_result"
    }
   ],
   "source": [
    "# lists are very similar to string except\n",
    "# except that each element can be of any type. \n",
    "# to define a list we have to use square brackets.\n",
    "l1=[1,2,3,45]\n",
    "type(l1)"
   ]
  },
  {
   "cell_type": "code",
   "execution_count": 160,
   "id": "b7388ab1",
   "metadata": {},
   "outputs": [
    {
     "name": "stdout",
     "output_type": "stream",
     "text": [
      "[1, 2, 3, 45]\n"
     ]
    }
   ],
   "source": [
    "#printing all its values\n",
    "print(l1)"
   ]
  },
  {
   "cell_type": "markdown",
   "id": "aee42cc5",
   "metadata": {},
   "source": [
    "### Slicing techniques"
   ]
  },
  {
   "cell_type": "code",
   "execution_count": 161,
   "id": "40c8406c",
   "metadata": {},
   "outputs": [
    {
     "data": {
      "text/plain": [
       "1"
      ]
     },
     "execution_count": 161,
     "metadata": {},
     "output_type": "execute_result"
    }
   ],
   "source": [
    "#slicing techniques to manuplulating lists\n",
    "l1[0]"
   ]
  },
  {
   "cell_type": "code",
   "execution_count": 162,
   "id": "66f390ad",
   "metadata": {},
   "outputs": [
    {
     "data": {
      "text/plain": [
       "[1, 2, 3]"
      ]
     },
     "execution_count": 162,
     "metadata": {},
     "output_type": "execute_result"
    }
   ],
   "source": [
    "l1[0:3]"
   ]
  },
  {
   "cell_type": "code",
   "execution_count": 163,
   "id": "c737bb0c",
   "metadata": {},
   "outputs": [
    {
     "data": {
      "text/plain": [
       "[1, 2, 3, 45]"
      ]
     },
     "execution_count": 163,
     "metadata": {},
     "output_type": "execute_result"
    }
   ],
   "source": [
    "#[starting location(default 0):ending location(ending of string):steps(1)]\n",
    "l1[::]"
   ]
  },
  {
   "cell_type": "code",
   "execution_count": 164,
   "id": "5358b386",
   "metadata": {},
   "outputs": [
    {
     "data": {
      "text/plain": [
       "[1, 3]"
      ]
     },
     "execution_count": 164,
     "metadata": {},
     "output_type": "execute_result"
    }
   ],
   "source": [
    "l1[::2]"
   ]
  },
  {
   "cell_type": "code",
   "execution_count": 165,
   "id": "50b9dbd3",
   "metadata": {},
   "outputs": [
    {
     "data": {
      "text/plain": [
       "list"
      ]
     },
     "execution_count": 165,
     "metadata": {},
     "output_type": "execute_result"
    }
   ],
   "source": [
    "#also assining various values to list\n",
    "l2=[1,\"A\",2.3]\n",
    "type(l2)#type of l2."
   ]
  },
  {
   "cell_type": "code",
   "execution_count": 166,
   "id": "ce0766d5",
   "metadata": {},
   "outputs": [
    {
     "data": {
      "text/plain": [
       "float"
      ]
     },
     "execution_count": 166,
     "metadata": {},
     "output_type": "execute_result"
    }
   ],
   "source": [
    "type(l2[2])#type of a particular elemnt of a list."
   ]
  },
  {
   "cell_type": "markdown",
   "id": "5d6accf8",
   "metadata": {},
   "source": [
    "### Nested list"
   ]
  },
  {
   "cell_type": "code",
   "execution_count": 167,
   "id": "66b596a4",
   "metadata": {},
   "outputs": [
    {
     "data": {
      "text/plain": [
       "list"
      ]
     },
     "execution_count": 167,
     "metadata": {},
     "output_type": "execute_result"
    }
   ],
   "source": [
    "#nested list\n",
    "#we can also provide a list as na elemnt of another list.\n",
    "l3=[l2,1,\"mkl\",0.9]\n",
    "type(l3)"
   ]
  },
  {
   "cell_type": "code",
   "execution_count": 168,
   "id": "1282bc43",
   "metadata": {},
   "outputs": [
    {
     "name": "stdout",
     "output_type": "stream",
     "text": [
      "<class 'list'>\n",
      "<class 'str'>\n"
     ]
    }
   ],
   "source": [
    "print(type(l3[0]))#prints the type of 0th element of l3 .ie list\n",
    "print(type(l3[0][1]))#prints the type of 1element of l2 list"
   ]
  },
  {
   "cell_type": "markdown",
   "id": "6b71576e",
   "metadata": {},
   "source": [
    "### creating a list with range function"
   ]
  },
  {
   "cell_type": "code",
   "execution_count": 169,
   "id": "119c5580",
   "metadata": {},
   "outputs": [
    {
     "name": "stdout",
     "output_type": "stream",
     "text": [
      "[0, 2, 4, 6, 8]\n"
     ]
    }
   ],
   "source": [
    "#creating a list\n",
    "\n",
    "l4=list(range(0,10,2))\n",
    "print(l4)"
   ]
  },
  {
   "cell_type": "markdown",
   "id": "4c0eebfa",
   "metadata": {},
   "source": [
    "### Sorting a list\n",
    "### 1.ascending order\n",
    "### 2.descending order"
   ]
  },
  {
   "cell_type": "code",
   "execution_count": 170,
   "id": "a6eb8065",
   "metadata": {},
   "outputs": [
    {
     "name": "stdout",
     "output_type": "stream",
     "text": [
      "[0, 2, 4, 6, 8]\n",
      "[8, 6, 4, 2, 0]\n"
     ]
    }
   ],
   "source": [
    "#sort a list\n",
    "\n",
    "l4.sort() #ascending order\n",
    "print(l4)\n",
    "l4.sort(reverse=True) #descending order\n",
    "print(l4)"
   ]
  },
  {
   "cell_type": "markdown",
   "id": "1aae2fb2",
   "metadata": {},
   "source": [
    "### Append \n",
    "### it adds elements at the end of the list."
   ]
  },
  {
   "cell_type": "code",
   "execution_count": 171,
   "id": "8dbc712f",
   "metadata": {},
   "outputs": [
    {
     "name": "stdout",
     "output_type": "stream",
     "text": [
      "[8, 6, 4, 2, 0, 10]\n"
     ]
    }
   ],
   "source": [
    "#adding more elements in the list\n",
    "#use append function.\n",
    "#it adds elements at the end of the list.\n",
    "l4.append(10)\n",
    "print(l4)"
   ]
  },
  {
   "cell_type": "code",
   "execution_count": 172,
   "id": "fc5b30df",
   "metadata": {},
   "outputs": [
    {
     "name": "stdout",
     "output_type": "stream",
     "text": [
      "[8, 6, 3, 2, 0, 10]\n"
     ]
    }
   ],
   "source": [
    "#chage the value of any element\n",
    "l4[2]=3\n",
    "print(l4)"
   ]
  },
  {
   "cell_type": "code",
   "execution_count": 173,
   "id": "a57ee18d",
   "metadata": {},
   "outputs": [
    {
     "name": "stdout",
     "output_type": "stream",
     "text": [
      "[8, 19, 18, 17, 16, 10]\n"
     ]
    }
   ],
   "source": [
    "#change a range of values\n",
    "l4[1:5]=[19,18,17,16]#it changes the values from 1 to 4.\n",
    "print(l4)"
   ]
  },
  {
   "cell_type": "markdown",
   "id": "a02ed94b",
   "metadata": {},
   "source": [
    "### Insert an element at a specific index\n",
    "### use keyword insert"
   ]
  },
  {
   "cell_type": "code",
   "execution_count": 174,
   "id": "507ece7e",
   "metadata": {},
   "outputs": [
    {
     "name": "stdout",
     "output_type": "stream",
     "text": [
      "['15', 8, 19, 18, 17, 16, 10]\n"
     ]
    }
   ],
   "source": [
    "#insert an element at a specific index\n",
    "#use keyword insert\n",
    "l4.insert(0,\"15\")\n",
    "print(l4)\n",
    "#string 15 now beacme the 0th pos\n",
    "#and all other elements shifted by one place"
   ]
  },
  {
   "cell_type": "markdown",
   "id": "da92e6e7",
   "metadata": {},
   "source": [
    "### 1.Remove func will remove the value of that element\n",
    "### search the value and remove it from the list."
   ]
  },
  {
   "cell_type": "code",
   "execution_count": 175,
   "id": "afe2c4e7",
   "metadata": {},
   "outputs": [
    {
     "name": "stdout",
     "output_type": "stream",
     "text": [
      "['15', 19, 18, 17, 16, 10]\n"
     ]
    }
   ],
   "source": [
    "#to delete any value we can use 2 functions\n",
    "#1.Remove func will remove the value of that element\n",
    "#search the value and remove it from the list.\n",
    "l4.remove(8)\n",
    "print(l4)#removed 8 from the list."
   ]
  },
  {
   "cell_type": "markdown",
   "id": "fa66abd5",
   "metadata": {},
   "source": [
    "### delete function will delete the position of the element"
   ]
  },
  {
   "cell_type": "code",
   "execution_count": 176,
   "id": "b33c17b0",
   "metadata": {},
   "outputs": [
    {
     "name": "stdout",
     "output_type": "stream",
     "text": [
      "[19, 18, 17, 16, 10]\n"
     ]
    }
   ],
   "source": [
    "#delete function will delete the position of the element\n",
    "del l4[0]\n",
    "print(l4)#removed the oth element"
   ]
  },
  {
   "cell_type": "code",
   "execution_count": 177,
   "id": "394ae92f",
   "metadata": {},
   "outputs": [
    {
     "name": "stdout",
     "output_type": "stream",
     "text": [
      "Help on class list in module builtins:\n",
      "\n",
      "class list(object)\n",
      " |  list(iterable=(), /)\n",
      " |  \n",
      " |  Built-in mutable sequence.\n",
      " |  \n",
      " |  If no argument is given, the constructor creates a new empty list.\n",
      " |  The argument must be an iterable if specified.\n",
      " |  \n",
      " |  Methods defined here:\n",
      " |  \n",
      " |  __add__(self, value, /)\n",
      " |      Return self+value.\n",
      " |  \n",
      " |  __contains__(self, key, /)\n",
      " |      Return key in self.\n",
      " |  \n",
      " |  __delitem__(self, key, /)\n",
      " |      Delete self[key].\n",
      " |  \n",
      " |  __eq__(self, value, /)\n",
      " |      Return self==value.\n",
      " |  \n",
      " |  __ge__(self, value, /)\n",
      " |      Return self>=value.\n",
      " |  \n",
      " |  __getattribute__(self, name, /)\n",
      " |      Return getattr(self, name).\n",
      " |  \n",
      " |  __getitem__(...)\n",
      " |      x.__getitem__(y) <==> x[y]\n",
      " |  \n",
      " |  __gt__(self, value, /)\n",
      " |      Return self>value.\n",
      " |  \n",
      " |  __iadd__(self, value, /)\n",
      " |      Implement self+=value.\n",
      " |  \n",
      " |  __imul__(self, value, /)\n",
      " |      Implement self*=value.\n",
      " |  \n",
      " |  __init__(self, /, *args, **kwargs)\n",
      " |      Initialize self.  See help(type(self)) for accurate signature.\n",
      " |  \n",
      " |  __iter__(self, /)\n",
      " |      Implement iter(self).\n",
      " |  \n",
      " |  __le__(self, value, /)\n",
      " |      Return self<=value.\n",
      " |  \n",
      " |  __len__(self, /)\n",
      " |      Return len(self).\n",
      " |  \n",
      " |  __lt__(self, value, /)\n",
      " |      Return self<value.\n",
      " |  \n",
      " |  __mul__(self, value, /)\n",
      " |      Return self*value.\n",
      " |  \n",
      " |  __ne__(self, value, /)\n",
      " |      Return self!=value.\n",
      " |  \n",
      " |  __repr__(self, /)\n",
      " |      Return repr(self).\n",
      " |  \n",
      " |  __reversed__(self, /)\n",
      " |      Return a reverse iterator over the list.\n",
      " |  \n",
      " |  __rmul__(self, value, /)\n",
      " |      Return value*self.\n",
      " |  \n",
      " |  __setitem__(self, key, value, /)\n",
      " |      Set self[key] to value.\n",
      " |  \n",
      " |  __sizeof__(self, /)\n",
      " |      Return the size of the list in memory, in bytes.\n",
      " |  \n",
      " |  append(self, object, /)\n",
      " |      Append object to the end of the list.\n",
      " |  \n",
      " |  clear(self, /)\n",
      " |      Remove all items from list.\n",
      " |  \n",
      " |  copy(self, /)\n",
      " |      Return a shallow copy of the list.\n",
      " |  \n",
      " |  count(self, value, /)\n",
      " |      Return number of occurrences of value.\n",
      " |  \n",
      " |  extend(self, iterable, /)\n",
      " |      Extend list by appending elements from the iterable.\n",
      " |  \n",
      " |  index(self, value, start=0, stop=9223372036854775807, /)\n",
      " |      Return first index of value.\n",
      " |      \n",
      " |      Raises ValueError if the value is not present.\n",
      " |  \n",
      " |  insert(self, index, object, /)\n",
      " |      Insert object before index.\n",
      " |  \n",
      " |  pop(self, index=-1, /)\n",
      " |      Remove and return item at index (default last).\n",
      " |      \n",
      " |      Raises IndexError if list is empty or index is out of range.\n",
      " |  \n",
      " |  remove(self, value, /)\n",
      " |      Remove first occurrence of value.\n",
      " |      \n",
      " |      Raises ValueError if the value is not present.\n",
      " |  \n",
      " |  reverse(self, /)\n",
      " |      Reverse *IN PLACE*.\n",
      " |  \n",
      " |  sort(self, /, *, key=None, reverse=False)\n",
      " |      Sort the list in ascending order and return None.\n",
      " |      \n",
      " |      The sort is in-place (i.e. the list itself is modified) and stable (i.e. the\n",
      " |      order of two equal elements is maintained).\n",
      " |      \n",
      " |      If a key function is given, apply it once to each list item and sort them,\n",
      " |      ascending or descending, according to their function values.\n",
      " |      \n",
      " |      The reverse flag can be set to sort in descending order.\n",
      " |  \n",
      " |  ----------------------------------------------------------------------\n",
      " |  Static methods defined here:\n",
      " |  \n",
      " |  __new__(*args, **kwargs) from builtins.type\n",
      " |      Create and return a new object.  See help(type) for accurate signature.\n",
      " |  \n",
      " |  ----------------------------------------------------------------------\n",
      " |  Data and other attributes defined here:\n",
      " |  \n",
      " |  __hash__ = None\n",
      "\n"
     ]
    }
   ],
   "source": [
    "#to know more about list \n",
    "#Manual\n",
    "help(list)"
   ]
  }
 ],
 "metadata": {
  "kernelspec": {
   "display_name": "Python 3",
   "language": "python",
   "name": "python3"
  },
  "language_info": {
   "codemirror_mode": {
    "name": "ipython",
    "version": 3
   },
   "file_extension": ".py",
   "mimetype": "text/x-python",
   "name": "python",
   "nbconvert_exporter": "python",
   "pygments_lexer": "ipython3",
   "version": "3.8.5"
  }
 },
 "nbformat": 4,
 "nbformat_minor": 5
}
